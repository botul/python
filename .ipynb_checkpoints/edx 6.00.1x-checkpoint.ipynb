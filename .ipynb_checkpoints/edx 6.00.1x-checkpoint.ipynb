{
 "cells": [
  {
   "cell_type": "markdown",
   "metadata": {
    "slideshow": {
     "slide_type": "notes"
    }
   },
   "source": [
    "# edx 6.00.1x"
   ]
  },
  {
   "cell_type": "markdown",
   "metadata": {
    "slideshow": {
     "slide_type": "notes"
    }
   },
   "source": [
    "### Strings"
   ]
  },
  {
   "cell_type": "code",
   "execution_count": 33,
   "metadata": {},
   "outputs": [
    {
     "data": {
      "text/plain": [
       "str"
      ]
     },
     "execution_count": 33,
     "metadata": {},
     "output_type": "execute_result"
    }
   ],
   "source": [
    "hi = \"Hello there\"\n",
    "type(hi)\n"
   ]
  },
  {
   "cell_type": "code",
   "execution_count": 6,
   "metadata": {},
   "outputs": [
    {
     "data": {
      "text/plain": [
       "'Hello there Eric'"
      ]
     },
     "execution_count": 6,
     "metadata": {},
     "output_type": "execute_result"
    }
   ],
   "source": [
    "name = \"Eric\"\n",
    "greet = hi + ' ' + name\n",
    "greet"
   ]
  },
  {
   "cell_type": "code",
   "execution_count": 31,
   "metadata": {},
   "outputs": [
    {
     "data": {
      "text/plain": [
       "'Eric Eric Eric '"
      ]
     },
     "execution_count": 31,
     "metadata": {},
     "output_type": "execute_result"
    }
   ],
   "source": [
    "3*'Eric '"
   ]
  },
  {
   "cell_type": "code",
   "execution_count": 8,
   "metadata": {},
   "outputs": [
    {
     "data": {
      "text/plain": [
       "16"
      ]
     },
     "execution_count": 8,
     "metadata": {},
     "output_type": "execute_result"
    }
   ],
   "source": [
    "len('Hello there Eric')"
   ]
  },
  {
   "cell_type": "code",
   "execution_count": 10,
   "metadata": {},
   "outputs": [
    {
     "data": {
      "text/plain": [
       "'r'"
      ]
     },
     "execution_count": 10,
     "metadata": {},
     "output_type": "execute_result"
    }
   ],
   "source": [
    "'Eric'[1]"
   ]
  },
  {
   "cell_type": "code",
   "execution_count": 12,
   "metadata": {},
   "outputs": [
    {
     "data": {
      "text/plain": [
       "'Dzien'"
      ]
     },
     "execution_count": 12,
     "metadata": {},
     "output_type": "execute_result"
    }
   ],
   "source": [
    "'Dzien dobry'[0:5]"
   ]
  },
  {
   "cell_type": "code",
   "execution_count": 21,
   "metadata": {},
   "outputs": [
    {
     "data": {
      "text/plain": [
       "'worl'"
      ]
     },
     "execution_count": 21,
     "metadata": {},
     "output_type": "execute_result"
    }
   ],
   "source": [
    "str1 = 'hello'\n",
    "str2 = ','\n",
    "str3 = 'world'\n",
    "str4 = str1 + str3\n",
    "\n",
    "str3[:-1]\n",
    "\n"
   ]
  },
  {
   "cell_type": "code",
   "execution_count": 22,
   "metadata": {},
   "outputs": [
    {
     "data": {
      "text/plain": [
       "'ello'"
      ]
     },
     "execution_count": 22,
     "metadata": {},
     "output_type": "execute_result"
    }
   ],
   "source": [
    "str1[1:]"
   ]
  },
  {
   "cell_type": "code",
   "execution_count": 23,
   "metadata": {},
   "outputs": [
    {
     "data": {
      "text/plain": [
       "'elloworl'"
      ]
     },
     "execution_count": 23,
     "metadata": {},
     "output_type": "execute_result"
    }
   ],
   "source": [
    "str4[1:9]"
   ]
  },
  {
   "cell_type": "code",
   "execution_count": 24,
   "metadata": {},
   "outputs": [
    {
     "data": {
      "text/plain": [
       "'elwr'"
      ]
     },
     "execution_count": 24,
     "metadata": {},
     "output_type": "execute_result"
    }
   ],
   "source": [
    "str4[1:9:2]"
   ]
  },
  {
   "cell_type": "code",
   "execution_count": 25,
   "metadata": {},
   "outputs": [
    {
     "data": {
      "text/plain": [
       "True"
      ]
     },
     "execution_count": 25,
     "metadata": {},
     "output_type": "execute_result"
    }
   ],
   "source": [
    "'low' in str4"
   ]
  },
  {
   "cell_type": "code",
   "execution_count": 26,
   "metadata": {},
   "outputs": [
    {
     "data": {
      "text/plain": [
       "'dlrowolleh'"
      ]
     },
     "execution_count": 26,
     "metadata": {},
     "output_type": "execute_result"
    }
   ],
   "source": [
    "str4[::-1]"
   ]
  },
  {
   "cell_type": "markdown",
   "metadata": {},
   "source": [
    "### Control flow"
   ]
  },
  {
   "cell_type": "markdown",
   "metadata": {},
   "source": [
    "#### loops "
   ]
  },
  {
   "cell_type": "markdown",
   "metadata": {},
   "source": [
    "WHILE loop\n",
    "\n",
    "while <condition\n",
    "    <expression>\n",
    "    <expression>\n",
    "    ...\n",
    "(repear until condition is False)"
   ]
  },
  {
   "cell_type": "code",
   "execution_count": 32,
   "metadata": {},
   "outputs": [
    {
     "name": "stdout",
     "output_type": "stream",
     "text": [
      "0\n",
      "1\n",
      "2\n",
      "3\n",
      "4\n"
     ]
    }
   ],
   "source": [
    "n = 0\n",
    "while n < 5:\n",
    "    print(n)\n",
    "    n += 1"
   ]
  },
  {
   "cell_type": "markdown",
   "metadata": {},
   "source": [
    "FOR loop"
   ]
  },
  {
   "cell_type": "code",
   "execution_count": 29,
   "metadata": {},
   "outputs": [
    {
     "name": "stdout",
     "output_type": "stream",
     "text": [
      "0\n",
      "1\n",
      "2\n",
      "3\n",
      "4\n"
     ]
    }
   ],
   "source": [
    "for m in range(5):\n",
    "    print (m)"
   ]
  },
  {
   "cell_type": "code",
   "execution_count": 28,
   "metadata": {},
   "outputs": [
    {
     "name": "stdout",
     "output_type": "stream",
     "text": [
      "21\n"
     ]
    }
   ],
   "source": [
    "# range(start, stop, step)\n",
    "\n",
    "mysum = 0\n",
    "for i in range(5,11,2):\n",
    "    mysum += i\n",
    "print (mysum)"
   ]
  },
  {
   "cell_type": "markdown",
   "metadata": {},
   "source": [
    "BREAK statement\n",
    "- immediately exits whatever loop it is in\n",
    "- skips remaining expressions in code block\n",
    "- exits only innermost loop"
   ]
  },
  {
   "cell_type": "code",
   "execution_count": 30,
   "metadata": {},
   "outputs": [
    {
     "name": "stdout",
     "output_type": "stream",
     "text": [
      "5\n"
     ]
    }
   ],
   "source": [
    "mysum = 0\n",
    "for i in range(5,11,2):\n",
    "    mysum += i\n",
    "    if mysum == 5:\n",
    "        break\n",
    "print (mysum)"
   ]
  },
  {
   "cell_type": "markdown",
   "metadata": {},
   "source": [
    "FOR loops:\n",
    "- known number of iterations\n",
    "- can end early via break\n",
    "- uses a counter\n",
    "- can rewrite a \"FOR\" loop using a WHILE loop\n",
    "\n",
    "WHILE loop:\n",
    "- unbounded number of iterations\n",
    "- can end early via break\n",
    "- can use a counter, but must initialize before loop, and increment inside loop\n",
    "- may not be able to rewrite a WHILE loop using a FOR loop"
   ]
  },
  {
   "cell_type": "code",
   "execution_count": null,
   "metadata": {},
   "outputs": [],
   "source": [
    "if type(varA)==str or type(varB)==str:\n",
    "    print(\"string involved\")\n",
    "elif type(varA)==int and type(varB)==int and varA>varB:\n",
    "    print(\"bigger\")\n",
    "elif type(varA)==int and type(varB)==int and varA==varB:\n",
    "    print(\"equal\")\n",
    "elif type(varA)==int and type(varB)==int and varA<varB:\n",
    "    print(\"smaller\")\n",
    "elif type(varA) != type(varB):\n",
    "    print(\"different\")"
   ]
  },
  {
   "cell_type": "code",
   "execution_count": 34,
   "metadata": {},
   "outputs": [
    {
     "name": "stdout",
     "output_type": "stream",
     "text": [
      "0\n",
      "1\n",
      "2\n",
      "3\n",
      "4\n",
      "5\n",
      "Outside of loop\n",
      "6\n"
     ]
    }
   ],
   "source": [
    "num = 0\n",
    "while num <= 5:\n",
    "    print(num)\n",
    "    num += 1\n",
    "\n",
    "print(\"Outside of loop\")\n",
    "print(num) "
   ]
  },
  {
   "cell_type": "code",
   "execution_count": 36,
   "metadata": {},
   "outputs": [
    {
     "name": "stdout",
     "output_type": "stream",
     "text": [
      "9\n",
      "8\n",
      "7\n",
      "6\n",
      "5\n",
      "4\n",
      "3\n"
     ]
    }
   ],
   "source": [
    "num = 10\n",
    "while num > 3:\n",
    "    num -= 1\n",
    "    print(num) "
   ]
  },
  {
   "cell_type": "code",
   "execution_count": 37,
   "metadata": {},
   "outputs": [
    {
     "name": "stdout",
     "output_type": "stream",
     "text": [
      "10\n",
      "9\n",
      "8\n",
      "7\n",
      "Breaking out of loop\n",
      "Outside of loop\n"
     ]
    }
   ],
   "source": [
    "num = 10\n",
    "while True:\n",
    "    if num < 7:\n",
    "        print('Breaking out of loop')\n",
    "        break\n",
    "    print(num)\n",
    "    num -= 1\n",
    "print('Outside of loop')"
   ]
  },
  {
   "cell_type": "code",
   "execution_count": null,
   "metadata": {},
   "outputs": [],
   "source": [
    "num = 100\n",
    "while not False:\n",
    "    if num < 0:\n",
    "        break\n",
    "print('num is: ' + str(num)) "
   ]
  },
  {
   "cell_type": "code",
   "execution_count": 40,
   "metadata": {},
   "outputs": [
    {
     "name": "stdout",
     "output_type": "stream",
     "text": [
      "2\n",
      "4\n",
      "6\n",
      "8\n",
      "Goodbye!\n"
     ]
    }
   ],
   "source": [
    "for i in range(2,10,2):\n",
    "    print (i)\n",
    "print('Goodbye!')"
   ]
  },
  {
   "cell_type": "code",
   "execution_count": 47,
   "metadata": {},
   "outputs": [
    {
     "name": "stdout",
     "output_type": "stream",
     "text": [
      "Hello!\n",
      "10\n",
      "8\n",
      "6\n",
      "4\n",
      "2\n"
     ]
    }
   ],
   "source": [
    "print('Hello!')\n",
    "for i in range(10,0,-2):\n",
    "    print (i)"
   ]
  },
  {
   "cell_type": "code",
   "execution_count": 53,
   "metadata": {},
   "outputs": [
    {
     "name": "stdout",
     "output_type": "stream",
     "text": [
      "21\n"
     ]
    }
   ],
   "source": [
    "mysum = 0\n",
    "for i in range(1,7,1):\n",
    "    mysum += i\n",
    "print(mysum)"
   ]
  },
  {
   "cell_type": "markdown",
   "metadata": {},
   "source": [
    "square number\n"
   ]
  },
  {
   "cell_type": "code",
   "execution_count": 2,
   "metadata": {},
   "outputs": [
    {
     "name": "stdout",
     "output_type": "stream",
     "text": [
      "3*3=9\n"
     ]
    }
   ],
   "source": [
    "x = 3\n",
    "ans = 0\n",
    "itersLeft = x\n",
    "while (itersLeft != 0):\n",
    "    ans = ans + x\n",
    "    itersLeft = itersLeft - 1\n",
    "print(str(x) + '*' + str(x) + '=' + str(ans))"
   ]
  },
  {
   "cell_type": "code",
   "execution_count": 3,
   "metadata": {},
   "outputs": [
    {
     "name": "stdout",
     "output_type": "stream",
     "text": [
      "0\n",
      "1\n",
      "2\n",
      "3\n",
      "4\n",
      "4\n"
     ]
    }
   ],
   "source": [
    "num = 10\n",
    "for num in range(5):\n",
    "    print (num)\n",
    "print(num)"
   ]
  },
  {
   "cell_type": "code",
   "execution_count": 5,
   "metadata": {},
   "outputs": [
    {
     "name": "stdout",
     "output_type": "stream",
     "text": [
      "0.0\n",
      "1.0\n",
      "2.0\n",
      "3.0\n",
      "4.0\n"
     ]
    }
   ],
   "source": [
    "divisor = 2\n",
    "for num in range(0, 10, 2):\n",
    "    print(num/divisor)\n",
    "    "
   ]
  },
  {
   "cell_type": "code",
   "execution_count": 4,
   "metadata": {},
   "outputs": [
    {
     "name": "stdout",
     "output_type": "stream",
     "text": [
      "Letter # 0 is S\n",
      "1\n"
     ]
    }
   ],
   "source": [
    "count = 0\n",
    "for letter in 'Snow!':\n",
    "    print('Letter # ' + str(count) + ' is ' + str(letter))\n",
    "    count += 1\n",
    "    break\n",
    "print(count)\n"
   ]
  },
  {
   "cell_type": "code",
   "execution_count": 6,
   "metadata": {},
   "outputs": [
    {
     "name": "stdout",
     "output_type": "stream",
     "text": [
      "h\n",
      "o\n",
      "l\n",
      "a\n"
     ]
    }
   ],
   "source": [
    "for letter in 'hola':\n",
    "    print(letter)\n",
    "    "
   ]
  },
  {
   "cell_type": "code",
   "execution_count": 7,
   "metadata": {},
   "outputs": [
    {
     "name": "stdout",
     "output_type": "stream",
     "text": [
      "0\n",
      "Foo!\n",
      "4\n",
      "8\n",
      "12\n",
      "16\n",
      "Foo!\n"
     ]
    }
   ],
   "source": [
    "for variable in range(20):\n",
    "    if variable % 4 == 0:\n",
    "        print(variable)\n",
    "    if variable % 16 == 0:\n",
    "        print('Foo!')"
   ]
  },
  {
   "cell_type": "code",
   "execution_count": 8,
   "metadata": {},
   "outputs": [
    {
     "name": "stdout",
     "output_type": "stream",
     "text": [
      "6\n",
      ".\n",
      "0\n",
      "0\n",
      "x\n",
      "done\n"
     ]
    }
   ],
   "source": [
    "myStr = '6.00x'\n",
    "for char in myStr:\n",
    "    print(char)\n",
    "print('done')\n"
   ]
  },
  {
   "cell_type": "code",
   "execution_count": 9,
   "metadata": {},
   "outputs": [
    {
     "name": "stdout",
     "output_type": "stream",
     "text": [
      "H\n",
      "e\n",
      "e\n",
      "l\n",
      "l\n",
      "l\n",
      "o\n",
      "!\n",
      "!\n",
      "done\n"
     ]
    }
   ],
   "source": [
    "greeting = 'Hello!'\n",
    "count = 0\n",
    "\n",
    "for letter in greeting:\n",
    "    count += 1\n",
    "    if count % 2 == 0:\n",
    "        print(letter)\n",
    "    print(letter)\n",
    "    \n",
    "print('done')"
   ]
  },
  {
   "cell_type": "code",
   "execution_count": 10,
   "metadata": {},
   "outputs": [
    {
     "name": "stdout",
     "output_type": "stream",
     "text": [
      "M\n",
      "numVowels is: 11\n",
      "numCons is: -25\n"
     ]
    }
   ],
   "source": [
    "school = 'Massachusetts Institute of Technology'\n",
    "numVowels = 0\n",
    "numCons = 0\n",
    "\n",
    "for char in school:\n",
    "    if char == 'a' or char == 'e' or char == 'i' or char == 'o' or char =='u':\n",
    "        numVowels += 1\n",
    "    elif char == 'o' or char =='M':\n",
    "        print(char)\n",
    "    else:\n",
    "        numCons -= 1\n",
    "        \n",
    "print('numVowels is: ' + str(numVowels))\n",
    "print('numCons is: ' + str(numCons))\n"
   ]
  },
  {
   "cell_type": "markdown",
   "metadata": {},
   "source": [
    "    Loop characteristics:\n",
    "- need a loop variable\n",
    "- initialized outside the loop\n",
    "- changes within the loop\n",
    "- test for termination depends on a variable"
   ]
  },
  {
   "cell_type": "markdown",
   "metadata": {},
   "source": [
    "    Guess and check algorithm\n",
    "- you are able to guess a value for solution\n",
    "- you are able to check if the solution is correct\n",
    "- keep guessing until find solution or guessed all values\n",
    "- the process is exhaustive enumeration"
   ]
  },
  {
   "cell_type": "markdown",
   "metadata": {},
   "source": [
    "    Cube root - first version - guess and check"
   ]
  },
  {
   "cell_type": "code",
   "execution_count": null,
   "metadata": {},
   "outputs": [],
   "source": [
    "x = int(input('Enter an integer: '))\n",
    "ans = 0\n",
    "while ans**3 < x:\n",
    "        ans = ans + 1\n",
    "if ans**3 != x:\n",
    "        print(str(x) + ' is not a perfect cube')\n",
    "else:\n",
    "        print('Cube root of ' + str(x) + ' is ' + str(ans))\n"
   ]
  },
  {
   "cell_type": "markdown",
   "metadata": {},
   "source": [
    "    Cube root - shorter version - guess and check"
   ]
  },
  {
   "cell_type": "code",
   "execution_count": null,
   "metadata": {},
   "outputs": [],
   "source": [
    "cube = 8\n",
    "for guess in range(cube+1):\n",
    "        if guess**3 == cube:\n",
    "                print('Cube root of ', cube, \" is \", guess)"
   ]
  },
  {
   "cell_type": "code",
   "execution_count": null,
   "metadata": {},
   "outputs": [],
   "source": [
    "cube = int(input('Enter an integer: '))\n",
    "for guess in range(abs(cube+1)):\n",
    "    if guess**3 >= abs(cube):\n",
    "        break\n",
    "if guess**3 != abs(cube):\n",
    "    print(cube, \" is not a perfect cube\")\n",
    "else:\n",
    "    if cube < 0:\n",
    "        guess = -guess\n",
    "    print ('Cube root of ' + str(cube) + ' is ' + str(guess))\n"
   ]
  },
  {
   "cell_type": "code",
   "execution_count": null,
   "metadata": {},
   "outputs": [],
   "source": [
    "Exercise 7 - iteration"
   ]
  },
  {
   "cell_type": "code",
   "execution_count": 1,
   "metadata": {},
   "outputs": [
    {
     "name": "stdout",
     "output_type": "stream",
     "text": [
      "Iteration 0; count is: 12\n",
      "Iteration 1; count is: 24\n",
      "Iteration 2; count is: 36\n",
      "Iteration 3; count is: 48\n",
      "Iteration 4; count is: 60\n"
     ]
    }
   ],
   "source": [
    "#Main code sample\n",
    "iteration = 0\n",
    "count = 0\n",
    "while iteration < 5:\n",
    "        for letter in \"hello, world\":\n",
    "                count += 1\n",
    "        print(\"Iteration \" + str(iteration) + \"; count is: \" + str(count))\n",
    "        iteration += 1"
   ]
  },
  {
   "cell_type": "code",
   "execution_count": 4,
   "metadata": {},
   "outputs": [
    {
     "name": "stdout",
     "output_type": "stream",
     "text": [
      "Iteration 0; count is: 12\n",
      "Iteration 1; count is: 12\n",
      "Iteration 2; count is: 12\n",
      "Iteration 3; count is: 12\n",
      "Iteration 4; count is: 12\n"
     ]
    }
   ],
   "source": [
    "#Test 1\n",
    "for iteration in range(5):\n",
    "    count = 0\n",
    "    while True:\n",
    "        for letter in \"hello, world\":\n",
    "            count += 1\n",
    "        print(\"Iteration \" + str(iteration) + \"; count is: \" + str(count))\n",
    "        break"
   ]
  },
  {
   "cell_type": "code",
   "execution_count": 5,
   "metadata": {},
   "outputs": [
    {
     "name": "stdout",
     "output_type": "stream",
     "text": [
      "Iteration 0; count is: 12\n",
      "Iteration 1; count is: 24\n",
      "Iteration 2; count is: 36\n",
      "Iteration 3; count is: 48\n",
      "Iteration 4; count is: 60\n"
     ]
    }
   ],
   "source": [
    "# Test 3\n",
    "count = 0\n",
    "phrase = \"hello, world\"\n",
    "\n",
    "for iteration in range(5):\n",
    "    index = 0\n",
    "    while index < len(phrase):\n",
    "        count += 1\n",
    "        index += 1\n",
    "    print(\"Iteration \" + str(iteration) + \"; count is: \" + str(count))"
   ]
  },
  {
   "cell_type": "code",
   "execution_count": 6,
   "metadata": {},
   "outputs": [
    {
     "name": "stdout",
     "output_type": "stream",
     "text": [
      "Iteration 0; count is: 12\n",
      "Iteration 1; count is: 24\n",
      "Iteration 2; count is: 36\n",
      "Iteration 3; count is: 48\n",
      "Iteration 4; count is: 60\n"
     ]
    }
   ],
   "source": [
    "#Test 4\n",
    "count = 0\n",
    "phrase = \"hello, world\"\n",
    "for iteration in range(5):\n",
    "    while True:\n",
    "        count += len(phrase)\n",
    "        break\n",
    "    print(\"Iteration \" +str(iteration) + \"; count is: \" + str(count))"
   ]
  },
  {
   "cell_type": "code",
   "execution_count": 7,
   "metadata": {},
   "outputs": [
    {
     "name": "stdout",
     "output_type": "stream",
     "text": [
      "Iteration 0; count is: 12\n",
      "Iteration 1; count is: 24\n",
      "Iteration 2; count is: 36\n",
      "Iteration 3; count is: 48\n",
      "Iteration 4; count is: 60\n"
     ]
    }
   ],
   "source": [
    "#Test 5\n",
    "count = 0\n",
    "phrase = \"hello, world\"\n",
    "for iteration in range(5):\n",
    "    count += len(phrase)\n",
    "    print(\"Iteration \" +str(iteration) + \"; count is: \" + str(count))"
   ]
  },
  {
   "cell_type": "markdown",
   "metadata": {},
   "source": [
    "    #Problem 1"
   ]
  },
  {
   "cell_type": "code",
   "execution_count": 8,
   "metadata": {},
   "outputs": [
    {
     "name": "stdout",
     "output_type": "stream",
     "text": [
      "Number of vowels: 5\n"
     ]
    }
   ],
   "source": [
    "# s = 'azcbobobegghakl'\n",
    "numVowels = 0\n",
    "for char in s:\n",
    "    if char == 'a' or char == 'e' or char == 'i' or char == 'o' or char =='u':\n",
    "        numVowels += 1\n",
    "print('Number of vowels: ' + str(numVowels))"
   ]
  },
  {
   "cell_type": "markdown",
   "metadata": {},
   "source": [
    "    #Problem 2"
   ]
  },
  {
   "cell_type": "code",
   "execution_count": 18,
   "metadata": {},
   "outputs": [
    {
     "name": "stdout",
     "output_type": "stream",
     "text": [
      "Number of times bob occurs is: 2\n"
     ]
    }
   ],
   "source": [
    "s = 'azcbobobegghakl'\n",
    "count = 0\n",
    "st = 'bob'\n",
    "sub_len = len(st)\n",
    "for i in range(len(s)):\n",
    "    if s[i:i+sub_len] == st:\n",
    "        count += 1\n",
    "    \n",
    "print(\"Number of times bob occurs is: \" + str(count))\n"
   ]
  },
  {
   "cell_type": "code",
   "execution_count": null,
   "metadata": {},
   "outputs": [],
   "source": []
  }
 ],
 "metadata": {
  "kernelspec": {
   "display_name": "Python 3",
   "language": "python",
   "name": "python3"
  },
  "language_info": {
   "codemirror_mode": {
    "name": "ipython",
    "version": 3
   },
   "file_extension": ".py",
   "mimetype": "text/x-python",
   "name": "python",
   "nbconvert_exporter": "python",
   "pygments_lexer": "ipython3",
   "version": "3.7.3"
  }
 },
 "nbformat": 4,
 "nbformat_minor": 4
}
